{
 "cells": [
  {
   "cell_type": "markdown",
   "metadata": {},
   "source": [
    "Walking habits Project\n",
    "\n",
    "By: Alan Poblette\n",
    "\n",
    "CPSC 222, Fall 2020\n",
    "\n",
    "# Introduction\n",
    "The domain of the walking habits project is fitness and it focuses on step count data sourced from Apple Health. The dataset is a collection of step entries with a value, date-time stamp, and multiple identifying information about the collection source (iphone, ios version, etc).\n",
    "\n",
    "For the project, we were looking for trends that would allow us to check how often and under what conditions step count increased. As part of the Exploratory Data Analysis we came up with a few hypotheses we wanted to test:\n",
    "1. Step count will decrease after school starts on 09-01-2020\n",
    "1. Step count will be lower on weekends vs weekdays.\n",
    "1. Step count will be less on a holiday than a non-holiday.\n",
    "\n",
    "The result of our data analysis resulted in the following answers to the previous hypotheses:\n",
    "1. Step count did NOT decrease after school started. It was equal or increased.\n",
    "1. Step count was NOT lower on weekends vs weekdays. It was equal or greater.\n",
    "1. Step count on a holiday was GREATER than a non-holiday.\n",
    "\n",
    "In terms of our classification, our best classifier was a linear regression model, but even that was at best inadequate. The decision tree model and kNN model with k=5 both had a 0% accuracy score. We had expected difficulty in classifying our data since it turned out to be very random on the day to day, and because of the lack of class features to classify by. However, 0% accuracy on two of the models was still alarming. The linear regression model had a mean squared error of $1616.521$, and an $R^2$ of $-0.2169$. \n",
    "# Data Analysis\n",
    "## Cleaning/Preperation\n",
    "The dataset was sourced from the Apple Health app on iphones and came in an XML file. The data cleaning and preparation was mainly focused around extracting usefull information from the XML format and shedding any identifying information from the export. As part of the cleaning we had to use datetime to handle the timestamps that were used by Apple in the dataset. \n",
    "## EDA\n",
    "For the analysis, we did 3 hypothesis tests for each of the hypothesis. The result of the hypothesis tests was the following: \n",
    "1. Step count did NOT decrease after school started. It was equal or increased.\n",
    "1. Step count was NOT lower on weekends vs weekdays. It was equal or greater.\n",
    "1. Step count on a holiday was GREATER than a non-holiday.\n",
    "\n",
    "## Classification\n",
    "For the classification I used a kNN classifier with k=5, and for the other two comparison classifiers I used a linear regressor and a decision tree classifier. The performance for the Decision tree and kNN was calculated by  utilizing the score() method provided by sklearn which returns each classifier's $R^2$ value. The linear regressor utilized mean square error, max error, and $R^2$ value to determine it's effectiveness. The kNN classifier and Decision tree classifier performed very poorly both receiving an $R^2$ of $0$%. The linear regressor also did very badly, but atleast it's $R^2 = -0.2169$ was better than $0$%. The linear regressor achieved a mean square error of $1616.521$ with a max error of $8681.7051$.\n",
    "\n",
    "# Conclusion\n",
    "The result of this project was that I was able to confirm a couple of trends I had suspected in regards to which days average more steps, those being that Holidays and weekdays are more active. And that in general, I am more active during school than at home. Atleast this year, due to COVID these results may not be accurate for other years. The implications of this work are rather small scale, since the data is captured from a year with a global pandemic occuring during it I would lean towards saying these numbers are outliers overall. However, the insights about when I get exercise are helpful so that I can look at times which don't get alot of exercise and find time for it."
   ]
  },
  {
   "cell_type": "code",
   "execution_count": null,
   "metadata": {},
   "outputs": [],
   "source": []
  }
 ],
 "metadata": {
  "kernelspec": {
   "display_name": "Python 3",
   "language": "python",
   "name": "python3"
  },
  "language_info": {
   "codemirror_mode": {
    "name": "ipython",
    "version": 3
   },
   "file_extension": ".py",
   "mimetype": "text/x-python",
   "name": "python",
   "nbconvert_exporter": "python",
   "pygments_lexer": "ipython3",
   "version": "3.8.5"
  }
 },
 "nbformat": 4,
 "nbformat_minor": 4
}
